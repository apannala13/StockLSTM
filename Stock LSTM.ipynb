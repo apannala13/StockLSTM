{
 "cells": [
  {
   "cell_type": "code",
   "execution_count": 1,
   "id": "8a56c1b1-55c7-47e2-9091-676a2c24a983",
   "metadata": {
    "collapsed": true
   },
   "outputs": [
    {
     "name": "stdout",
     "output_type": "stream",
     "text": [
      "Requirement already satisfied: psycopg2-binary in ./env/lib/python3.12/site-packages (2.9.10)\n",
      "\n",
      "\u001b[1m[\u001b[0m\u001b[34;49mnotice\u001b[0m\u001b[1;39;49m]\u001b[0m\u001b[39;49m A new release of pip is available: \u001b[0m\u001b[31;49m24.2\u001b[0m\u001b[39;49m -> \u001b[0m\u001b[32;49m24.3.1\u001b[0m\n",
      "\u001b[1m[\u001b[0m\u001b[34;49mnotice\u001b[0m\u001b[1;39;49m]\u001b[0m\u001b[39;49m To update, run: \u001b[0m\u001b[32;49mpip install --upgrade pip\u001b[0m\n",
      "Requirement already satisfied: yfinance in ./env/lib/python3.12/site-packages (0.2.49)\n",
      "Requirement already satisfied: pandas>=1.3.0 in ./env/lib/python3.12/site-packages (from yfinance) (2.2.3)\n",
      "Requirement already satisfied: numpy>=1.16.5 in ./env/lib/python3.12/site-packages (from yfinance) (2.1.3)\n",
      "Requirement already satisfied: requests>=2.31 in ./env/lib/python3.12/site-packages (from yfinance) (2.32.3)\n",
      "Requirement already satisfied: multitasking>=0.0.7 in ./env/lib/python3.12/site-packages (from yfinance) (0.0.11)\n",
      "Requirement already satisfied: lxml>=4.9.1 in ./env/lib/python3.12/site-packages (from yfinance) (5.3.0)\n",
      "Requirement already satisfied: platformdirs>=2.0.0 in ./env/lib/python3.12/site-packages (from yfinance) (4.3.6)\n",
      "Requirement already satisfied: pytz>=2022.5 in ./env/lib/python3.12/site-packages (from yfinance) (2024.2)\n",
      "Requirement already satisfied: frozendict>=2.3.4 in ./env/lib/python3.12/site-packages (from yfinance) (2.4.6)\n",
      "Requirement already satisfied: peewee>=3.16.2 in ./env/lib/python3.12/site-packages (from yfinance) (3.17.8)\n",
      "Requirement already satisfied: beautifulsoup4>=4.11.1 in ./env/lib/python3.12/site-packages (from yfinance) (4.12.3)\n",
      "Requirement already satisfied: html5lib>=1.1 in ./env/lib/python3.12/site-packages (from yfinance) (1.1)\n",
      "Requirement already satisfied: soupsieve>1.2 in ./env/lib/python3.12/site-packages (from beautifulsoup4>=4.11.1->yfinance) (2.6)\n",
      "Requirement already satisfied: six>=1.9 in ./env/lib/python3.12/site-packages (from html5lib>=1.1->yfinance) (1.16.0)\n",
      "Requirement already satisfied: webencodings in ./env/lib/python3.12/site-packages (from html5lib>=1.1->yfinance) (0.5.1)\n",
      "Requirement already satisfied: python-dateutil>=2.8.2 in ./env/lib/python3.12/site-packages (from pandas>=1.3.0->yfinance) (2.9.0.post0)\n",
      "Requirement already satisfied: tzdata>=2022.7 in ./env/lib/python3.12/site-packages (from pandas>=1.3.0->yfinance) (2024.2)\n",
      "Requirement already satisfied: charset-normalizer<4,>=2 in ./env/lib/python3.12/site-packages (from requests>=2.31->yfinance) (3.4.0)\n",
      "Requirement already satisfied: idna<4,>=2.5 in ./env/lib/python3.12/site-packages (from requests>=2.31->yfinance) (3.10)\n",
      "Requirement already satisfied: urllib3<3,>=1.21.1 in ./env/lib/python3.12/site-packages (from requests>=2.31->yfinance) (2.2.3)\n",
      "Requirement already satisfied: certifi>=2017.4.17 in ./env/lib/python3.12/site-packages (from requests>=2.31->yfinance) (2024.8.30)\n",
      "\n",
      "\u001b[1m[\u001b[0m\u001b[34;49mnotice\u001b[0m\u001b[1;39;49m]\u001b[0m\u001b[39;49m A new release of pip is available: \u001b[0m\u001b[31;49m24.2\u001b[0m\u001b[39;49m -> \u001b[0m\u001b[32;49m24.3.1\u001b[0m\n",
      "\u001b[1m[\u001b[0m\u001b[34;49mnotice\u001b[0m\u001b[1;39;49m]\u001b[0m\u001b[39;49m To update, run: \u001b[0m\u001b[32;49mpip install --upgrade pip\u001b[0m\n"
     ]
    }
   ],
   "source": [
    "!pip install psycopg2-binary\n",
    "!pip install yfinance"
   ]
  },
  {
   "cell_type": "code",
   "execution_count": 3,
   "id": "14d65be6-2fe4-4b19-a147-16ef86026eed",
   "metadata": {
    "collapsed": true
   },
   "outputs": [
    {
     "name": "stdout",
     "output_type": "stream",
     "text": [
      "Collecting torch\n",
      "  Using cached torch-2.5.1-cp312-none-macosx_11_0_arm64.whl.metadata (28 kB)\n",
      "Collecting filelock (from torch)\n",
      "  Using cached filelock-3.16.1-py3-none-any.whl.metadata (2.9 kB)\n",
      "Collecting typing-extensions>=4.8.0 (from torch)\n",
      "  Using cached typing_extensions-4.12.2-py3-none-any.whl.metadata (3.0 kB)\n",
      "Collecting networkx (from torch)\n",
      "  Using cached networkx-3.4.2-py3-none-any.whl.metadata (6.3 kB)\n",
      "Requirement already satisfied: jinja2 in ./env/lib/python3.12/site-packages (from torch) (3.1.4)\n",
      "Collecting fsspec (from torch)\n",
      "  Using cached fsspec-2024.10.0-py3-none-any.whl.metadata (11 kB)\n",
      "Collecting setuptools (from torch)\n",
      "  Using cached setuptools-75.5.0-py3-none-any.whl.metadata (6.8 kB)\n",
      "Collecting sympy==1.13.1 (from torch)\n",
      "  Using cached sympy-1.13.1-py3-none-any.whl.metadata (12 kB)\n",
      "Collecting mpmath<1.4,>=1.1.0 (from sympy==1.13.1->torch)\n",
      "  Using cached mpmath-1.3.0-py3-none-any.whl.metadata (8.6 kB)\n",
      "Requirement already satisfied: MarkupSafe>=2.0 in ./env/lib/python3.12/site-packages (from jinja2->torch) (3.0.2)\n",
      "Using cached torch-2.5.1-cp312-none-macosx_11_0_arm64.whl (63.9 MB)\n",
      "Using cached sympy-1.13.1-py3-none-any.whl (6.2 MB)\n",
      "Using cached typing_extensions-4.12.2-py3-none-any.whl (37 kB)\n",
      "Using cached filelock-3.16.1-py3-none-any.whl (16 kB)\n",
      "Using cached fsspec-2024.10.0-py3-none-any.whl (179 kB)\n",
      "Using cached networkx-3.4.2-py3-none-any.whl (1.7 MB)\n",
      "Using cached setuptools-75.5.0-py3-none-any.whl (1.2 MB)\n",
      "Using cached mpmath-1.3.0-py3-none-any.whl (536 kB)\n",
      "Installing collected packages: mpmath, typing-extensions, sympy, setuptools, networkx, fsspec, filelock, torch\n",
      "Successfully installed filelock-3.16.1 fsspec-2024.10.0 mpmath-1.3.0 networkx-3.4.2 setuptools-75.5.0 sympy-1.13.1 torch-2.5.1 typing-extensions-4.12.2\n",
      "\n",
      "\u001b[1m[\u001b[0m\u001b[34;49mnotice\u001b[0m\u001b[1;39;49m]\u001b[0m\u001b[39;49m A new release of pip is available: \u001b[0m\u001b[31;49m24.2\u001b[0m\u001b[39;49m -> \u001b[0m\u001b[32;49m24.3.1\u001b[0m\n",
      "\u001b[1m[\u001b[0m\u001b[34;49mnotice\u001b[0m\u001b[1;39;49m]\u001b[0m\u001b[39;49m To update, run: \u001b[0m\u001b[32;49mpip install --upgrade pip\u001b[0m\n"
     ]
    }
   ],
   "source": [
    "!pip install torch"
   ]
  },
  {
   "cell_type": "code",
   "execution_count": 24,
   "id": "b406d267",
   "metadata": {
    "collapsed": true
   },
   "outputs": [
    {
     "name": "stdout",
     "output_type": "stream",
     "text": [
      "Collecting scikit-learn\n",
      "  Using cached scikit_learn-1.5.2-cp312-cp312-macosx_12_0_arm64.whl.metadata (13 kB)\n",
      "Requirement already satisfied: numpy>=1.19.5 in ./env/lib/python3.12/site-packages (from scikit-learn) (2.1.3)\n",
      "Collecting scipy>=1.6.0 (from scikit-learn)\n",
      "  Using cached scipy-1.14.1-cp312-cp312-macosx_14_0_arm64.whl.metadata (60 kB)\n",
      "Collecting joblib>=1.2.0 (from scikit-learn)\n",
      "  Using cached joblib-1.4.2-py3-none-any.whl.metadata (5.4 kB)\n",
      "Collecting threadpoolctl>=3.1.0 (from scikit-learn)\n",
      "  Using cached threadpoolctl-3.5.0-py3-none-any.whl.metadata (13 kB)\n",
      "Using cached scikit_learn-1.5.2-cp312-cp312-macosx_12_0_arm64.whl (11.0 MB)\n",
      "Using cached joblib-1.4.2-py3-none-any.whl (301 kB)\n",
      "Using cached scipy-1.14.1-cp312-cp312-macosx_14_0_arm64.whl (23.1 MB)\n",
      "Using cached threadpoolctl-3.5.0-py3-none-any.whl (18 kB)\n",
      "Installing collected packages: threadpoolctl, scipy, joblib, scikit-learn\n",
      "Successfully installed joblib-1.4.2 scikit-learn-1.5.2 scipy-1.14.1 threadpoolctl-3.5.0\n",
      "\n",
      "\u001b[1m[\u001b[0m\u001b[34;49mnotice\u001b[0m\u001b[1;39;49m]\u001b[0m\u001b[39;49m A new release of pip is available: \u001b[0m\u001b[31;49m24.2\u001b[0m\u001b[39;49m -> \u001b[0m\u001b[32;49m24.3.1\u001b[0m\n",
      "\u001b[1m[\u001b[0m\u001b[34;49mnotice\u001b[0m\u001b[1;39;49m]\u001b[0m\u001b[39;49m To update, run: \u001b[0m\u001b[32;49mpip install --upgrade pip\u001b[0m\n"
     ]
    }
   ],
   "source": [
    "!pip install scikit-learn"
   ]
  },
  {
   "cell_type": "code",
   "execution_count": 54,
   "id": "19d93bd3",
   "metadata": {},
   "outputs": [],
   "source": [
    "import yfinance as yf\n",
    "import pandas as pd\n",
    "import numpy as np\n",
    "from datetime import datetime, timedelta\n",
    "import torch \n",
    "import torch.nn as nn \n",
    "import torch.optim as optim\n",
    "import torch.functional as F\n",
    "import psycopg2\n",
    "from sklearn.preprocessing import MinMaxScaler\n",
    "from datetime import datetime, timedelta\n",
    "from torch.utils.data import TensorDataset, DataLoader"
   ]
  },
  {
   "cell_type": "code",
   "execution_count": 11,
   "id": "2267892d",
   "metadata": {
    "scrolled": true
   },
   "outputs": [],
   "source": [
    "def stock_ingestion(ticker_list):\n",
    "    end_date = datetime.now()\n",
    "    start_date = end_date - timedelta(days=1825)\n",
    "    \n",
    "    stock_data = {}\n",
    "    \n",
    "    for ticker in ticker_list:\n",
    "        try:\n",
    "            stock = yf.Ticker(ticker)\n",
    "            hist_data = stock.history(\n",
    "                start=start_date.strftime('%Y-%m-%d'),\n",
    "                end=end_date.strftime('%Y-%m-%d'),\n",
    "                interval='1d'\n",
    "            )\n",
    "            hist_data['Ticker'] = ticker\n",
    "            \n",
    "            stock_data[ticker] = hist_data\n",
    "        except Exception as e:\n",
    "            print(f'could not rertieve info for {ticker}: {str(e)}')\n",
    "    \n",
    "    combined_data = pd.concat(stock_data.values())\n",
    "    combined_data.reset_index(inplace=True)\n",
    "    combined_data = combined_data[['Ticker', 'Date'] + [col for col in combined_data.columns if col not in ['Ticker', 'Date']]]\n",
    "    \n",
    "    \n",
    "    return combined_data\n",
    "    \n",
    "ticker_list = ['MSFT', 'AAPL', 'GOOGL', 'AMZN', 'META', 'NVDA', 'TSLA', 'JPM', 'V', 'MA', 'BAC', \n",
    "               'GS', 'JNJ', 'UNH', 'PFE', 'ABBV', 'WMT', 'PG','KO', 'PEP', 'CAT', 'BA', 'HON', 'DIS', \n",
    "               'NFLX', 'INTC', 'AMD', 'QCOM', 'XOM', 'CVX']\n",
    "stock_data = stock_ingestion(ticker_list)"
   ]
  },
  {
   "cell_type": "code",
   "execution_count": 13,
   "id": "6dd4da4c",
   "metadata": {
    "scrolled": true
   },
   "outputs": [
    {
     "data": {
      "text/plain": [
       "<bound method DataFrame.info of       Ticker                      Date        Open        High         Low  \\\n",
       "0       MSFT 2019-11-19 00:00:00-05:00  144.112987  144.542802  143.463478   \n",
       "1       MSFT 2019-11-20 00:00:00-05:00  144.057096  144.565047  142.284065   \n",
       "2       MSFT 2019-11-21 00:00:00-05:00  143.184969  143.568338  142.322414   \n",
       "3       MSFT 2019-11-22 00:00:00-05:00  143.827093  144.047521  142.629093   \n",
       "4       MSFT 2019-11-25 00:00:00-05:00  143.760015  145.053861  143.683341   \n",
       "...      ...                       ...         ...         ...         ...   \n",
       "37705    CVX 2024-11-11 00:00:00-05:00  157.139999  157.940002  155.899994   \n",
       "37706    CVX 2024-11-12 00:00:00-05:00  157.300003  157.470001  155.119995   \n",
       "37707    CVX 2024-11-13 00:00:00-05:00  156.070007  159.020004  154.529999   \n",
       "37708    CVX 2024-11-14 00:00:00-05:00  159.839996  161.830002  159.679993   \n",
       "37709    CVX 2024-11-15 00:00:00-05:00  161.520004  162.380005  160.759995   \n",
       "\n",
       "            Close    Volume  Dividends  Stock Splits  \n",
       "0      143.644958  23935700       0.00           0.0  \n",
       "1      143.395798  25696800       0.51           0.0  \n",
       "2      143.261642  18576100       0.00           0.0  \n",
       "3      143.367050  15901800       0.00           0.0  \n",
       "4      144.938843  22420900       0.00           0.0  \n",
       "...           ...       ...        ...           ...  \n",
       "37705  156.500000   7771700       0.00           0.0  \n",
       "37706  155.289993   5681900       0.00           0.0  \n",
       "37707  158.720001   8824000       0.00           0.0  \n",
       "37708  161.800003  10111200       0.00           0.0  \n",
       "37709  161.419998   9009500       0.00           0.0  \n",
       "\n",
       "[37710 rows x 9 columns]>"
      ]
     },
     "execution_count": 13,
     "metadata": {},
     "output_type": "execute_result"
    }
   ],
   "source": [
    "stock_data.info"
   ]
  },
  {
   "cell_type": "code",
   "execution_count": 14,
   "id": "fa3838c9",
   "metadata": {
    "scrolled": true
   },
   "outputs": [
    {
     "data": {
      "text/plain": [
       "(37710, 9)"
      ]
     },
     "execution_count": 14,
     "metadata": {},
     "output_type": "execute_result"
    }
   ],
   "source": [
    "stock_data.shape"
   ]
  },
  {
   "cell_type": "code",
   "execution_count": 15,
   "id": "df144276",
   "metadata": {},
   "outputs": [
    {
     "data": {
      "text/html": [
       "<div>\n",
       "<style scoped>\n",
       "    .dataframe tbody tr th:only-of-type {\n",
       "        vertical-align: middle;\n",
       "    }\n",
       "\n",
       "    .dataframe tbody tr th {\n",
       "        vertical-align: top;\n",
       "    }\n",
       "\n",
       "    .dataframe thead th {\n",
       "        text-align: right;\n",
       "    }\n",
       "</style>\n",
       "<table border=\"1\" class=\"dataframe\">\n",
       "  <thead>\n",
       "    <tr style=\"text-align: right;\">\n",
       "      <th></th>\n",
       "      <th>Open</th>\n",
       "      <th>High</th>\n",
       "      <th>Low</th>\n",
       "      <th>Close</th>\n",
       "      <th>Volume</th>\n",
       "      <th>Dividends</th>\n",
       "      <th>Stock Splits</th>\n",
       "    </tr>\n",
       "  </thead>\n",
       "  <tbody>\n",
       "    <tr>\n",
       "      <th>count</th>\n",
       "      <td>37710.000000</td>\n",
       "      <td>37710.000000</td>\n",
       "      <td>37710.000000</td>\n",
       "      <td>37710.000000</td>\n",
       "      <td>3.771000e+04</td>\n",
       "      <td>37710.000000</td>\n",
       "      <td>37710.000000</td>\n",
       "    </tr>\n",
       "    <tr>\n",
       "      <th>mean</th>\n",
       "      <td>168.698106</td>\n",
       "      <td>170.687184</td>\n",
       "      <td>166.687501</td>\n",
       "      <td>168.720364</td>\n",
       "      <td>3.936483e+07</td>\n",
       "      <td>0.009442</td>\n",
       "      <td>0.001858</td>\n",
       "    </tr>\n",
       "    <tr>\n",
       "      <th>std</th>\n",
       "      <td>124.412268</td>\n",
       "      <td>125.785261</td>\n",
       "      <td>123.017337</td>\n",
       "      <td>124.427389</td>\n",
       "      <td>9.082301e+07</td>\n",
       "      <td>0.104442</td>\n",
       "      <td>0.160879</td>\n",
       "    </tr>\n",
       "    <tr>\n",
       "      <th>min</th>\n",
       "      <td>4.984939</td>\n",
       "      <td>5.174166</td>\n",
       "      <td>4.501143</td>\n",
       "      <td>4.892763</td>\n",
       "      <td>4.601000e+05</td>\n",
       "      <td>0.000000</td>\n",
       "      <td>0.000000</td>\n",
       "    </tr>\n",
       "    <tr>\n",
       "      <th>25%</th>\n",
       "      <td>79.991919</td>\n",
       "      <td>80.953674</td>\n",
       "      <td>78.862120</td>\n",
       "      <td>79.878531</td>\n",
       "      <td>5.450325e+06</td>\n",
       "      <td>0.000000</td>\n",
       "      <td>0.000000</td>\n",
       "    </tr>\n",
       "    <tr>\n",
       "      <th>50%</th>\n",
       "      <td>144.849906</td>\n",
       "      <td>146.307168</td>\n",
       "      <td>143.279384</td>\n",
       "      <td>144.765503</td>\n",
       "      <td>1.238540e+07</td>\n",
       "      <td>0.000000</td>\n",
       "      <td>0.000000</td>\n",
       "    </tr>\n",
       "    <tr>\n",
       "      <th>75%</th>\n",
       "      <td>208.986257</td>\n",
       "      <td>211.448502</td>\n",
       "      <td>206.471741</td>\n",
       "      <td>209.126301</td>\n",
       "      <td>3.390808e+07</td>\n",
       "      <td>0.000000</td>\n",
       "      <td>0.000000</td>\n",
       "    </tr>\n",
       "    <tr>\n",
       "      <th>max</th>\n",
       "      <td>833.669983</td>\n",
       "      <td>841.000000</td>\n",
       "      <td>830.020020</td>\n",
       "      <td>837.260010</td>\n",
       "      <td>1.543911e+09</td>\n",
       "      <td>3.000000</td>\n",
       "      <td>20.000000</td>\n",
       "    </tr>\n",
       "  </tbody>\n",
       "</table>\n",
       "</div>"
      ],
      "text/plain": [
       "               Open          High           Low         Close        Volume  \\\n",
       "count  37710.000000  37710.000000  37710.000000  37710.000000  3.771000e+04   \n",
       "mean     168.698106    170.687184    166.687501    168.720364  3.936483e+07   \n",
       "std      124.412268    125.785261    123.017337    124.427389  9.082301e+07   \n",
       "min        4.984939      5.174166      4.501143      4.892763  4.601000e+05   \n",
       "25%       79.991919     80.953674     78.862120     79.878531  5.450325e+06   \n",
       "50%      144.849906    146.307168    143.279384    144.765503  1.238540e+07   \n",
       "75%      208.986257    211.448502    206.471741    209.126301  3.390808e+07   \n",
       "max      833.669983    841.000000    830.020020    837.260010  1.543911e+09   \n",
       "\n",
       "          Dividends  Stock Splits  \n",
       "count  37710.000000  37710.000000  \n",
       "mean       0.009442      0.001858  \n",
       "std        0.104442      0.160879  \n",
       "min        0.000000      0.000000  \n",
       "25%        0.000000      0.000000  \n",
       "50%        0.000000      0.000000  \n",
       "75%        0.000000      0.000000  \n",
       "max        3.000000     20.000000  "
      ]
     },
     "execution_count": 15,
     "metadata": {},
     "output_type": "execute_result"
    }
   ],
   "source": [
    "stock_data.describe()"
   ]
  },
  {
   "cell_type": "code",
   "execution_count": 16,
   "id": "7e843259",
   "metadata": {},
   "outputs": [
    {
     "name": "stdout",
     "output_type": "stream",
     "text": [
      "37710\n"
     ]
    }
   ],
   "source": [
    "print(len(stock_data))"
   ]
  },
  {
   "cell_type": "code",
   "execution_count": 17,
   "id": "412a49e6",
   "metadata": {},
   "outputs": [
    {
     "data": {
      "text/html": [
       "<div>\n",
       "<style scoped>\n",
       "    .dataframe tbody tr th:only-of-type {\n",
       "        vertical-align: middle;\n",
       "    }\n",
       "\n",
       "    .dataframe tbody tr th {\n",
       "        vertical-align: top;\n",
       "    }\n",
       "\n",
       "    .dataframe thead th {\n",
       "        text-align: right;\n",
       "    }\n",
       "</style>\n",
       "<table border=\"1\" class=\"dataframe\">\n",
       "  <thead>\n",
       "    <tr style=\"text-align: right;\">\n",
       "      <th></th>\n",
       "      <th>Ticker</th>\n",
       "      <th>Date</th>\n",
       "      <th>Open</th>\n",
       "      <th>High</th>\n",
       "      <th>Low</th>\n",
       "      <th>Close</th>\n",
       "      <th>Volume</th>\n",
       "      <th>Dividends</th>\n",
       "      <th>Stock Splits</th>\n",
       "    </tr>\n",
       "  </thead>\n",
       "  <tbody>\n",
       "    <tr>\n",
       "      <th>0</th>\n",
       "      <td>MSFT</td>\n",
       "      <td>2019-11-19 00:00:00-05:00</td>\n",
       "      <td>144.112987</td>\n",
       "      <td>144.542802</td>\n",
       "      <td>143.463478</td>\n",
       "      <td>143.644958</td>\n",
       "      <td>23935700</td>\n",
       "      <td>0.00</td>\n",
       "      <td>0.0</td>\n",
       "    </tr>\n",
       "    <tr>\n",
       "      <th>1</th>\n",
       "      <td>MSFT</td>\n",
       "      <td>2019-11-20 00:00:00-05:00</td>\n",
       "      <td>144.057096</td>\n",
       "      <td>144.565047</td>\n",
       "      <td>142.284065</td>\n",
       "      <td>143.395798</td>\n",
       "      <td>25696800</td>\n",
       "      <td>0.51</td>\n",
       "      <td>0.0</td>\n",
       "    </tr>\n",
       "    <tr>\n",
       "      <th>2</th>\n",
       "      <td>MSFT</td>\n",
       "      <td>2019-11-21 00:00:00-05:00</td>\n",
       "      <td>143.184969</td>\n",
       "      <td>143.568338</td>\n",
       "      <td>142.322414</td>\n",
       "      <td>143.261642</td>\n",
       "      <td>18576100</td>\n",
       "      <td>0.00</td>\n",
       "      <td>0.0</td>\n",
       "    </tr>\n",
       "    <tr>\n",
       "      <th>3</th>\n",
       "      <td>MSFT</td>\n",
       "      <td>2019-11-22 00:00:00-05:00</td>\n",
       "      <td>143.827093</td>\n",
       "      <td>144.047521</td>\n",
       "      <td>142.629093</td>\n",
       "      <td>143.367050</td>\n",
       "      <td>15901800</td>\n",
       "      <td>0.00</td>\n",
       "      <td>0.0</td>\n",
       "    </tr>\n",
       "    <tr>\n",
       "      <th>4</th>\n",
       "      <td>MSFT</td>\n",
       "      <td>2019-11-25 00:00:00-05:00</td>\n",
       "      <td>143.760015</td>\n",
       "      <td>145.053861</td>\n",
       "      <td>143.683341</td>\n",
       "      <td>144.938843</td>\n",
       "      <td>22420900</td>\n",
       "      <td>0.00</td>\n",
       "      <td>0.0</td>\n",
       "    </tr>\n",
       "  </tbody>\n",
       "</table>\n",
       "</div>"
      ],
      "text/plain": [
       "  Ticker                      Date        Open        High         Low  \\\n",
       "0   MSFT 2019-11-19 00:00:00-05:00  144.112987  144.542802  143.463478   \n",
       "1   MSFT 2019-11-20 00:00:00-05:00  144.057096  144.565047  142.284065   \n",
       "2   MSFT 2019-11-21 00:00:00-05:00  143.184969  143.568338  142.322414   \n",
       "3   MSFT 2019-11-22 00:00:00-05:00  143.827093  144.047521  142.629093   \n",
       "4   MSFT 2019-11-25 00:00:00-05:00  143.760015  145.053861  143.683341   \n",
       "\n",
       "        Close    Volume  Dividends  Stock Splits  \n",
       "0  143.644958  23935700       0.00           0.0  \n",
       "1  143.395798  25696800       0.51           0.0  \n",
       "2  143.261642  18576100       0.00           0.0  \n",
       "3  143.367050  15901800       0.00           0.0  \n",
       "4  144.938843  22420900       0.00           0.0  "
      ]
     },
     "execution_count": 17,
     "metadata": {},
     "output_type": "execute_result"
    }
   ],
   "source": [
    "stock_data.head()"
   ]
  },
  {
   "cell_type": "code",
   "execution_count": 69,
   "id": "5a619a38",
   "metadata": {},
   "outputs": [
    {
     "data": {
      "text/plain": [
       "(11310, 10, 9)"
      ]
     },
     "execution_count": 69,
     "metadata": {},
     "output_type": "execute_result"
    }
   ],
   "source": [
    "def temporal_preprocessing(df, sequence_length=10, test_size=0.3):\n",
    "    df['Date'] = pd.to_datetime(df['Date'])\n",
    "    df['year'] = df['Date'].dt.year\n",
    "    df['month'] = df['Date'].dt.month\n",
    "    df['day'] = df['Date'].dt.day \n",
    "    df['day_of_week'] = df['Date'].dt.dayofweek \n",
    "    \n",
    "    features = ['Open', 'High', 'Low', 'Close', 'Volume', \n",
    "               'year', 'month', 'day', 'day_of_week']\n",
    "    data = df[features].values\n",
    "    scaler = MinMaxScaler()\n",
    "    data_scaled = scaler.fit_transform(data)\n",
    "    \n",
    "    X, y = [], []\n",
    "    \n",
    "    for i in range(len(data_scaled) - sequence_length):\n",
    "        X.append(data_scaled[i:(i + sequence_length)])\n",
    "        y.append(data_scaled[i + sequence_length, 3]) #3 = index for close price (dependent variable)\n",
    "    \n",
    "    X, y = np.array(X), np.array(y)\n",
    "    \n",
    "    train_size = int(len(X) * (1 - test_size))\n",
    "    \n",
    "    X_train = X[:train_size]\n",
    "    X_test = X[train_size:]\n",
    "    y_train = y[:train_size]\n",
    "    y_test = y[train_size:]\n",
    "    \n",
    "    X_train_tensor = torch.tensor(X_train, dtype=torch.float32)\n",
    "    X_test_tensor = torch.tensor(X_test, dtype=torch.float32)\n",
    "    y_train_tensor = torch.tensor(y_train, dtype=torch.float32)\n",
    "    y_test_tensor = torch.tensor(y_test, dtype=torch.float32)\n",
    "    \n",
    "    dataset = TensorDataset(X_train_tensor, y_train_tensor)\n",
    "    dataloader = DataLoader(dataset=dataset, batch_size=32, \n",
    "                            shuffle=True, pin_memory=torch.cuda.is_available)\n",
    "\n",
    "    return X_test, y_test, dataloader\n",
    "\n",
    "X_test, y_test, dataloader = temporal_preprocessing(stock_data)\n",
    "X_test.shape"
   ]
  },
  {
   "cell_type": "code",
   "execution_count": 70,
   "id": "b623d6c6",
   "metadata": {},
   "outputs": [],
   "source": [
    "input_size = 9 #num features \n",
    "hidden_size = 64\n",
    "num_layers = 2\n",
    "output_size = 1\n",
    "\n",
    "class LSTM(nn.Module):\n",
    "    def __init__(self, input_size, hidden_size, num_layers):\n",
    "        super().__init__()\n",
    "        self.hidden_size = hidden_size\n",
    "        self.num_layers = num_layers\n",
    "        self.lstm = nn.LSTM(input_size, \n",
    "                            hidden_size=hidden_size, \n",
    "                            layers=num_layers,\n",
    "                            batch_first=True, \n",
    "                            dropout=0.2\n",
    "                           )\n",
    "        self.fc = nn.Linear(hidden_size, output_size)\n",
    "    \n",
    "    def forward():\n",
    "        pass \n",
    "    "
   ]
  },
  {
   "cell_type": "code",
   "execution_count": null,
   "id": "2e60ea5c",
   "metadata": {},
   "outputs": [],
   "source": []
  },
  {
   "cell_type": "code",
   "execution_count": null,
   "id": "5b2d3e46",
   "metadata": {},
   "outputs": [],
   "source": []
  },
  {
   "cell_type": "code",
   "execution_count": null,
   "id": "9f41d0b4",
   "metadata": {},
   "outputs": [],
   "source": []
  },
  {
   "cell_type": "code",
   "execution_count": null,
   "id": "7c1c208e",
   "metadata": {},
   "outputs": [],
   "source": []
  },
  {
   "cell_type": "code",
   "execution_count": null,
   "id": "b63f8d64",
   "metadata": {},
   "outputs": [],
   "source": []
  },
  {
   "cell_type": "code",
   "execution_count": null,
   "id": "57c4f78f",
   "metadata": {},
   "outputs": [],
   "source": []
  },
  {
   "cell_type": "code",
   "execution_count": null,
   "id": "5803c42d",
   "metadata": {},
   "outputs": [],
   "source": []
  },
  {
   "cell_type": "code",
   "execution_count": null,
   "id": "a243687d",
   "metadata": {},
   "outputs": [],
   "source": []
  },
  {
   "cell_type": "code",
   "execution_count": null,
   "id": "178090bc",
   "metadata": {},
   "outputs": [],
   "source": []
  },
  {
   "cell_type": "code",
   "execution_count": null,
   "id": "e6b0b9b4",
   "metadata": {},
   "outputs": [],
   "source": []
  },
  {
   "cell_type": "code",
   "execution_count": null,
   "id": "86483461",
   "metadata": {},
   "outputs": [],
   "source": []
  },
  {
   "cell_type": "code",
   "execution_count": null,
   "id": "55bc7e5a",
   "metadata": {},
   "outputs": [],
   "source": []
  }
 ],
 "metadata": {
  "kernelspec": {
   "display_name": "Python 3 (ipykernel)",
   "language": "python",
   "name": "python3"
  },
  "language_info": {
   "codemirror_mode": {
    "name": "ipython",
    "version": 3
   },
   "file_extension": ".py",
   "mimetype": "text/x-python",
   "name": "python",
   "nbconvert_exporter": "python",
   "pygments_lexer": "ipython3",
   "version": "3.12.7"
  }
 },
 "nbformat": 4,
 "nbformat_minor": 5
}
